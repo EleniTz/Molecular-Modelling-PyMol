{
  "cells": [
    {
      "metadata": {
        "collapsed": true
      },
      "cell_type": "markdown",
      "source": "## Molecular Modelling with PyMol \n\n**Problem**: Design a drug that prevents the interaction between a snake toxin and Acetylcholinesterase\n\n1. Design mutations in the gene encoding AcHE that will disrupt its binding to the toxin. This way we will define the binding site. We need to target at least 3 residues to achieve site-directed mutagenesis\n\n\n#### 'De-coding' Protein Data Bank Files\n\n[1ACJ](https://www.rcsb.org/structure/1ACJ)\n\n1. Method used: X-ray Diffraction [EXPDTA](https://files.rcsb.org/view/1ACJ.pdb)\n2. ATOM example\n\nATOM      **1**  N   **SER** A   4     -12.503  89.084  35.130  1.00 66.28           N\n\n3. B - Factor: this value represents the mobility of an atom. It positively correlates with electronegativity of an atom. \n\nExample: REMARK   3   GROUP  1  B-FACTOR           (A** 2) : NULL  ; NULL\n\n4. Missing residues example (expected to be found mostly within the loops and the N- and C- termini)\n\nREMARK 465 MISSING RESIDUES                                                     \nREMARK 465 THE FOLLOWING RESIDUES WERE NOT LOCATED IN THE                       \nREMARK 465 EXPERIMENT. (M=MODEL NUMBER; RES=RESIDUE NAME; C=CHAIN               \nREMARK 465 IDENTIFIER; SSSEQ=SEQUENCE NUMBER; I=INSERTION CODE.)                \nREMARK 465                                                                      \nREMARK 465   M RES C SSSEQI                                                     \nREMARK 465     ASP A     1                                                      \nREMARK 465     ASP A     2                                                      \nREMARK 465     HIS A     3                                                      \nREMARK 465     HIS A   486                                                      \nREMARK 465     SER A   487                                                      \nREMARK 465     GLN A   488                                                      \nREMARK 465     GLU A   489                                                      \nREMARK 465     GLU A   536                                                      \nREMARK 465     THR A   537\n\n### PyMol Model of 1ACJ (Secondary Protein Structure)\n\n![Colour by secondary protein structure](https://i.gyazo.com/de0c416aeb8769a98b4d0b0e29e3386c.png)\n\n\n\n#### Basic PyMol Commands\n\n1. PyMOL> hide all\n2. PyMOL> show cartoon\n3. PyMOL> show cartoon, 1ACJ\n4. PyMOL> align 1B41, 1ACJ\n5. PyMol> orient 1ACJ",
      "attachments": {}
    },
    {
      "metadata": {},
      "cell_type": "markdown",
      "source": "**Colour by B - Factor Values**\n\n![1ACJ coloured by B-Factor Values](https://i.gyazo.com/7b44821e0dc008b572f97cba601adb29.png) \n\nThe core of the protein has low B - Factor values with the highest B - factor values found in the loops of the protein. That makes sense as they are found in the more mobile parts of the protein that have the highest freedom of movement.",
      "attachments": {}
    },
    {
      "metadata": {},
      "cell_type": "markdown",
      "source": "**Aligned Structures**\n\n![Aligned structures of 2 proteins](https://i.gyazo.com/1b24d757e01b892a53b6184c40bb8ec6.jpg) \n\nThe PyMOL alignment algorithm creates a sequence alignment of the two proteins, and then minimizes the root mean square distance (RMSD) between corresponding residues.",
      "attachments": {}
    },
    {
      "metadata": {},
      "cell_type": "markdown",
      "source": "**Active Site**\n\nThe active site of the human acetylcholinesterase enzyme consists of a catalytic triad made up of amino acids Ser203 (serine at position 203), Glu334 (glutamic acid at position 334), and His447 (histidine at position 447)\n\n*PyMOL> select humantriad, 1B41 and resi 203+334+447*\n\n*PyMOL> show sticks, humantriad*\n\n![Residues of the active site](https://i.gyazo.com/35e5cbaf6890839ea874ab2829b18efc.png \"Residues of the active site\") Residues of the active site of human AcHE\n\n![Ball and stick model of active site](https://i.gyazo.com/2caa1d4b0deedc5a93e37296d20bdc03.png) Stick model of the active site\n\n![Ray active site](https://i.gyazo.com/87c45238ed82919aa5301ef12cd95c63.png) Active site for Ray AcHE\n\n*PyMOL> select raytriad, 1ACJ and resi 200+440+327*\n\n*PyMOL> show sticks, raytriad*"
    },
    {
      "metadata": {},
      "cell_type": "markdown",
      "source": "**Inhibitors**\n\n*PyMOL> select tacrine, 1ACJ and resn THA*\n\n*PyMOL> show sticks, tacrine*\n\n![Inhibitor](https://i.gyazo.com/11f553b20ff47a66845d55d5f5f50f6b.png) The inhibitor lies close to the active site. The snake produces a toxin, which is an inhibitor of acetylcholinesterase. This toxin is a protein called fasciculin-II. Structure 1B41 is acetylcholinesterase in complex with fasciculin-II\n\n\n**Calculate** the distance of the alpha-carbon (CA) atom of Pro31 to the CA atom of the active site residue His447\n\n![Calculating the distance between the active site and the inhibitor](https://i.gyazo.com/a61d2be53ac566d1479169ded04e861d.png)\n\n*PyMOL> select toxinPro31, 1B41 and chain B and resi 31*\n\n*PyMOL> show sticks, toxinPro31*\n\nTo measure the distance between the CA atom of Pro31 and the CA atom of His447, we label the atoms of Pro31 and His447\n\n*PyMOL> label 1B41 and i. 31, name*\n\n*PyMOL> label 1B41 and i. 447, name*\n\n![Labeled residues](https://i.gyazo.com/c0e1227cf84d95cc86e161859f7f310e.png)\n\n![Distance](https://i.gyazo.com/3cd9c6d56a4b8b164acf5a16ed11aaef.png) Wizard -> measurement -> select CA atoms of Pro31 and His447\n\nThe distance between Pro31 and His447 (active site) is 16.4 Å\n\nConcluding remarks: Fasciculin-II blocks the entrance to the active site, preventing the normal binding of acetylcholine. ",
      "attachments": {}
    },
    {
      "metadata": {},
      "cell_type": "markdown",
      "source": "## Identifying Candidate Residues for Mutagenesis\n\nAlter target resideues in order to prevent venom binding (mongoose and hedgehog are resistant to snakes venom. The DNA sequence encoding aromatic residues in AcHE have mutated to nonaromatic residues, and the DNA sequences encoding prolines have mutated to leucines and histidines)\n\n*PyMOL> select tryptophans, resname TRP and chain A*\n\n*PyMOL> show sticks, tryptophans*\n\n*PyMOL> color yellow, tryptophans*\n\n![Coloured residues](https://i.gyazo.com/9adea478b64aa48b5f9e21c8c6e87e7d.jpg) Coloured Residues for TRP, TYR, PHE, PRO\n\n\n**Selecting and Mutating Residues**\n\nWizard -> Mutagenesis\n\nIn species immune to venom the DNA sequence encoding aromatic residues in acetylcholinesterase have mutated to nonaromatic residues, and the DNA sequence encoding prolines have mutated to leucines and histidines. We can select a tyrosine, tryptophan, or phenylalanine close to the toxin binding site to be mutated to a non-aromatic residue like alanine or glycine. You could also select a proline close to the toxin binding site to be mutated to a leucine or histidine. \n\nUse [Blast](https://blast.ncbi.nlm.nih.gov/Blast.cgi) , a Basic Local Alignment Search Tool, to find more sequences for mutation."
    },
    {
      "metadata": {},
      "cell_type": "markdown",
      "source": "# Crystal Structures of MgrA\n\nDNA-binding protein produced by Staphylococcus aureus (Transcriptional regulator) \n\n![Chainbow representation](https://i.gyazo.com/b99f65ea54d09477099de7e55cedfc4d.png) Distance between the N and the C termini\n\nThe quaternary structure of the protein is dimeric (this info can be found in the pdb file)\n\n*PyMOL> set_name sele, interface*\n\n*PyMOL> show ribbon, (all &! interface)*\n\n*PyMOL> hide cartoon, (all &! interface)*\n\n![Ribbon representation](https://i.gyazo.com/c7353c02a618393fe9c7f6cca7ad2f63.png)"
    },
    {
      "metadata": {
        "trusted": true
      },
      "cell_type": "code",
      "source": "",
      "execution_count": null,
      "outputs": []
    }
  ],
  "metadata": {
    "kernelspec": {
      "name": "python36",
      "display_name": "Python 3.6",
      "language": "python"
    },
    "language_info": {
      "mimetype": "text/x-python",
      "nbconvert_exporter": "python",
      "name": "python",
      "pygments_lexer": "ipython3",
      "version": "3.6.6",
      "file_extension": ".py",
      "codemirror_mode": {
        "version": 3,
        "name": "ipython"
      }
    }
  },
  "nbformat": 4,
  "nbformat_minor": 2
}